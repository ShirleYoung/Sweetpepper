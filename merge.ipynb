{
 "cells": [
  {
   "cell_type": "code",
   "execution_count": 3,
   "metadata": {},
   "outputs": [
    {
     "name": "stdout",
     "output_type": "stream",
     "text": [
      "Processed p8.ply\n",
      "Processed p32.ply\n",
      "Processed p19.ply\n",
      "Processed p36.ply\n",
      "Processed p30.ply\n",
      "Processed p6.ply\n",
      "Processed p38.ply\n",
      "Processed p44.ply\n",
      "Processed p24.ply\n",
      "Processed p48.ply\n",
      "Processed p50.ply\n",
      "Processed p33.ply\n",
      "Processed p20.ply\n",
      "Processed p49.ply\n",
      "Processed p15.ply\n",
      "Processed p5.ply\n",
      "Processed p25.ply\n",
      "Processed p45.ply\n",
      "Processed p2.ply\n",
      "Processed p47.ply\n",
      "Processed p46.ply\n",
      "Processed p23.ply\n",
      "Processed p17.ply\n",
      "Processed p35.ply\n",
      "Processed p11.ply\n",
      "Processed p37.ply\n",
      "Processed p3.ply\n",
      "Processed p21.ply\n",
      "Processed p29.ply\n",
      "Processed p7.ply\n",
      "Processed p39.ply\n",
      "Processed p16.ply\n",
      "Processed p22.ply\n",
      "Processed p31.ply\n",
      "Processed p4.ply\n",
      "Processed p10.ply\n",
      "Processed p34.ply\n",
      "Processed p1.ply\n"
     ]
    }
   ],
   "source": [
    "!python ./merge_pcd.py"
   ]
  }
 ],
 "metadata": {
  "kernelspec": {
   "display_name": "tcore",
   "language": "python",
   "name": "python3"
  },
  "language_info": {
   "codemirror_mode": {
    "name": "ipython",
    "version": 3
   },
   "file_extension": ".py",
   "mimetype": "text/x-python",
   "name": "python",
   "nbconvert_exporter": "python",
   "pygments_lexer": "ipython3",
   "version": "3.9.19"
  }
 },
 "nbformat": 4,
 "nbformat_minor": 2
}
